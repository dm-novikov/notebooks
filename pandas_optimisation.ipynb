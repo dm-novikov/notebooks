{
 "cells": [
  {
   "cell_type": "code",
   "execution_count": 1,
   "metadata": {},
   "outputs": [],
   "source": [
    "import pandas as pd"
   ]
  },
  {
   "cell_type": "markdown",
   "metadata": {},
   "source": [
    "### Скачаем датасет с которым будем работать"
   ]
  },
  {
   "cell_type": "code",
   "execution_count": 2,
   "metadata": {},
   "outputs": [],
   "source": [
    "def DownloadCSVTables(url, start, end):\n",
    "    \"\"\n",
    "    # Пустая таблица для последующей конкатенации\n",
    "    table = pd.DataFrame(columns=['Name', 'Gender', 'Count'])\n",
    "\n",
    "    # Года записей в таблице\n",
    "    years = [year for year in range(start, end+1)]    \n",
    "\n",
    "    # Получим каждую таблицу и добавим в общий DataFrame\n",
    "    for year in years:\n",
    "        table_ = pd.read_csv(url + str(year) + '.txt', names=['Name', 'Gender', 'Count'])\n",
    "        table_['Year'] = str(year)\n",
    "        \n",
    "        table = pd.concat([table_, table], sort=False)\n",
    "        \n",
    "    return table\n",
    "\n",
    "data = DownloadCSVTables(url='https://raw.githubusercontent.com/wesm/pydata-book/2nd-edition/datasets/babynames/yob', start=1880, end=2010)\n",
    "data.to_csv('babynames.csv', index=False)"
   ]
  },
  {
   "cell_type": "markdown",
   "metadata": {},
   "source": [
    "### Считывание больших данных"
   ]
  },
  {
   "cell_type": "code",
   "execution_count": null,
   "metadata": {},
   "outputs": [],
   "source": [
    "data_iter = pd.read_csv('babynames.csv', chunksize=1000)\n",
    "\n",
    "def data_prep(df, func):\n",
    "    \"\"\" Отфильтруем данные и сложим в другой файлик\n",
    "    \"\"\"\n",
    "    for chunk in df:\n",
    "        tmp = func(chunk)\n",
    "        tmp.to_csv('dataset.csv')\n",
    "        \n",
    "def func_filter(data):\n",
    "    return data.head(5)\n",
    "\n",
    "data_prep(data_iter, func_filter)"
   ]
  },
  {
   "cell_type": "markdown",
   "metadata": {},
   "source": [
    "### Понижение размера дата фрейма"
   ]
  },
  {
   "cell_type": "code",
   "execution_count": 27,
   "metadata": {},
   "outputs": [
    {
     "name": "stdout",
     "output_type": "stream",
     "text": [
      "<class 'pandas.core.frame.DataFrame'>\n",
      "RangeIndex: 1690784 entries, 0 to 1690783\n",
      "Data columns (total 4 columns):\n",
      " #   Column  Non-Null Count    Dtype \n",
      "---  ------  --------------    ----- \n",
      " 0   Name    1690784 non-null  object\n",
      " 1   Gender  1690784 non-null  object\n",
      " 2   Count   1690784 non-null  int64 \n",
      " 3   Year    1690784 non-null  int64 \n",
      "dtypes: int64(2), object(2)\n",
      "memory usage: 51.6+ MB\n"
     ]
    }
   ],
   "source": [
    "# Загрузка данных из файла\n",
    "data = pd.read_csv('babynames.csv')\n",
    "data.info()"
   ]
  },
  {
   "cell_type": "code",
   "execution_count": 15,
   "metadata": {},
   "outputs": [
    {
     "name": "stdout",
     "output_type": "stream",
     "text": [
      "<class 'pandas.core.frame.DataFrame'>\n",
      "RangeIndex: 1690784 entries, 0 to 1690783\n",
      "Data columns (total 4 columns):\n",
      " #   Column  Non-Null Count    Dtype   \n",
      "---  ------  --------------    -----   \n",
      " 0   Name    1690784 non-null  object  \n",
      " 1   Gender  1690784 non-null  category\n",
      " 2   Count   1690784 non-null  int32   \n",
      " 3   Year    1690784 non-null  int16   \n",
      "dtypes: category(1), int16(1), int32(1), object(1)\n",
      "memory usage: 24.2+ MB\n"
     ]
    }
   ],
   "source": [
    "# Загрузка данных из файла с оптимизацией поля Gender\n",
    "data = pd.read_csv('babynames.csv', dtype={'Name': object, 'Gender': 'category','Count': 'int32','Year': 'int16'})\n",
    "data.info()"
   ]
  },
  {
   "cell_type": "markdown",
   "metadata": {},
   "source": [
    "### Парсинг даты"
   ]
  },
  {
   "cell_type": "code",
   "execution_count": 28,
   "metadata": {},
   "outputs": [],
   "source": [
    "# Небольшое преобразование чтобы показать что и как нужно делать\n",
    "data['Year'] = data['Year'].map(lambda x: str(x)+ '-01-01 00:00:01')\n",
    "data.to_csv('babynames_time_test.csv', index=False)"
   ]
  },
  {
   "cell_type": "code",
   "execution_count": 29,
   "metadata": {},
   "outputs": [
    {
     "name": "stdout",
     "output_type": "stream",
     "text": [
      "1.18 s ± 40.9 ms per loop (mean ± std. dev. of 7 runs, 1 loop each)\n"
     ]
    }
   ],
   "source": [
    "%%timeit\n",
    "# Пусть dateutils сам разберется как парсить дату\n",
    "data = pd.read_csv('babynames_time_test.csv', parse_dates=['Year'])"
   ]
  },
  {
   "cell_type": "code",
   "execution_count": 30,
   "metadata": {},
   "outputs": [
    {
     "name": "stderr",
     "output_type": "stream",
     "text": [
      "/opt/tljh/user/lib/python3.7/site-packages/ipykernel_launcher.py:2: FutureWarning: The pandas.datetime class is deprecated and will be removed from pandas in a future version. Import from datetime module instead.\n",
      "  \n"
     ]
    },
    {
     "name": "stdout",
     "output_type": "stream",
     "text": [
      "31.4 s ± 236 ms per loop (mean ± std. dev. of 7 runs, 1 loop each)\n"
     ]
    }
   ],
   "source": [
    "%%timeit\n",
    "# Говорим ему как разобрать дату\n",
    "date_parse_func = lambda x: pd.datetime.strptime(x, \"%Y-%m-%d %H:%M:%S\")\n",
    "data = pd.read_csv('babynames_time_test.csv', parse_dates=['Year'], date_parser=date_parse_func)"
   ]
  },
  {
   "cell_type": "markdown",
   "metadata": {},
   "source": [
    "### Индексирование и join"
   ]
  },
  {
   "cell_type": "code",
   "execution_count": 22,
   "metadata": {},
   "outputs": [
    {
     "name": "stdout",
     "output_type": "stream",
     "text": [
      "18 s ± 148 ms per loop (mean ± std. dev. of 7 runs, 1 loop each)\n"
     ]
    }
   ],
   "source": [
    "%%timeit\n",
    "data.merge(data, on='Name')"
   ]
  },
  {
   "cell_type": "code",
   "execution_count": 23,
   "metadata": {},
   "outputs": [
    {
     "name": "stdout",
     "output_type": "stream",
     "text": [
      "184 ms ± 3.29 ms per loop (mean ± std. dev. of 7 runs, 10 loops each)\n"
     ]
    }
   ],
   "source": [
    "%%timeit\n",
    "data.set_index('Name')\n",
    "data.merge(data, left_index=True, right_index=True)"
   ]
  },
  {
   "cell_type": "markdown",
   "metadata": {},
   "source": [
    "### Векторные операции"
   ]
  },
  {
   "cell_type": "code",
   "execution_count": 32,
   "metadata": {},
   "outputs": [
    {
     "name": "stdout",
     "output_type": "stream",
     "text": [
      "497 ms ± 19.4 ms per loop (mean ± std. dev. of 7 runs, 1 loop each)\n"
     ]
    }
   ],
   "source": [
    "%%timeit\n",
    "data['Count'].map(lambda x: x - x/2)"
   ]
  },
  {
   "cell_type": "code",
   "execution_count": 33,
   "metadata": {},
   "outputs": [
    {
     "name": "stdout",
     "output_type": "stream",
     "text": [
      "12.4 ms ± 244 µs per loop (mean ± std. dev. of 7 runs, 100 loops each)\n"
     ]
    }
   ],
   "source": [
    "%%timeit\n",
    "data['Count'] - data['Count']/2"
   ]
  },
  {
   "cell_type": "code",
   "execution_count": null,
   "metadata": {},
   "outputs": [],
   "source": []
  }
 ],
 "metadata": {
  "kernelspec": {
   "display_name": "Python 3",
   "language": "python",
   "name": "python3"
  },
  "language_info": {
   "codemirror_mode": {
    "name": "ipython",
    "version": 3
   },
   "file_extension": ".py",
   "mimetype": "text/x-python",
   "name": "python",
   "nbconvert_exporter": "python",
   "pygments_lexer": "ipython3",
   "version": "3.7.3"
  }
 },
 "nbformat": 4,
 "nbformat_minor": 4
}
